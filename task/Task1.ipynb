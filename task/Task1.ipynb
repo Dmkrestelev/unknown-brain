{
 "cells": [
  {
   "cell_type": "markdown",
   "metadata": {},
   "source": [
    "# Case 1. Найти нефть "
   ]
  },
  {
   "cell_type": "markdown",
   "metadata": {},
   "source": [
    "## 1. Импорт необходимых библиотек"
   ]
  },
  {
   "cell_type": "code",
   "execution_count": 182,
   "metadata": {},
   "outputs": [],
   "source": [
    "# Общие\n",
    "import warnings\n",
    "warnings.filterwarnings('ignore')\n",
    "import pandas as pd\n",
    "import numpy as np\n",
    "\n",
    "# Рисование \n",
    "from matplotlib import pyplot as plt\n",
    "import seaborn as sns\n",
    "\n",
    "# ML \n",
    "from sklearn.ensemble import RandomForestClassifier\n",
    "from sklearn.linear_model import LogisticRegression\n",
    "from sklearn.svm import SVC\n",
    "import xgboost as xgb\n",
    "import lightgbm as lgb\n",
    "\n",
    "# Метрики и валидация \n",
    "from sklearn.metrics import f1_score, roc_auc_score, accuracy_score, precision_score, recall_score\n",
    "from sklearn.model_selection import train_test_split, GridSearchCV\n",
    "from sklearn.preprocessing import OneHotEncoder, StandardScaler, LabelEncoder"
   ]
  },
  {
   "cell_type": "markdown",
   "metadata": {},
   "source": [
    "## 2. Загрузка данных и их оценка"
   ]
  },
  {
   "cell_type": "markdown",
   "metadata": {},
   "source": [
    "### 2.1. Тренировочный набор "
   ]
  },
  {
   "cell_type": "code",
   "execution_count": 113,
   "metadata": {},
   "outputs": [
    {
     "name": "stdout",
     "output_type": "stream",
     "text": [
      "Wall time: 0 ns\n"
     ]
    }
   ],
   "source": [
    "%time\n",
    "train_df = pd.read_excel('train.xlsx')"
   ]
  },
  {
   "cell_type": "code",
   "execution_count": 165,
   "metadata": {},
   "outputs": [
    {
     "data": {
      "text/html": [
       "<div>\n",
       "<style scoped>\n",
       "    .dataframe tbody tr th:only-of-type {\n",
       "        vertical-align: middle;\n",
       "    }\n",
       "\n",
       "    .dataframe tbody tr th {\n",
       "        vertical-align: top;\n",
       "    }\n",
       "\n",
       "    .dataframe thead th {\n",
       "        text-align: right;\n",
       "    }\n",
       "</style>\n",
       "<table border=\"1\" class=\"dataframe\">\n",
       "  <thead>\n",
       "    <tr style=\"text-align: right;\">\n",
       "      <th></th>\n",
       "      <th>well id</th>\n",
       "      <th>depth, m</th>\n",
       "      <th>bk</th>\n",
       "      <th>GZ1</th>\n",
       "      <th>GZ2</th>\n",
       "      <th>GZ3</th>\n",
       "      <th>GZ4</th>\n",
       "      <th>GZ5</th>\n",
       "      <th>GZ7</th>\n",
       "      <th>DGK</th>\n",
       "      <th>NKTD</th>\n",
       "      <th>NKTM</th>\n",
       "      <th>NKTR</th>\n",
       "      <th>ALPS</th>\n",
       "      <th>lith</th>\n",
       "      <th>goal</th>\n",
       "    </tr>\n",
       "  </thead>\n",
       "  <tbody>\n",
       "    <tr>\n",
       "      <th>0</th>\n",
       "      <td>12.0</td>\n",
       "      <td>3042.4630</td>\n",
       "      <td>0.455779</td>\n",
       "      <td>0.774000</td>\n",
       "      <td>0.774000</td>\n",
       "      <td>0.332846</td>\n",
       "      <td>0.476545</td>\n",
       "      <td>0.774000</td>\n",
       "      <td>0.244898</td>\n",
       "      <td>0.123651</td>\n",
       "      <td>0.774000</td>\n",
       "      <td>0.799167</td>\n",
       "      <td>0.174639</td>\n",
       "      <td>0.727789</td>\n",
       "      <td>NK</td>\n",
       "      <td>0.0</td>\n",
       "    </tr>\n",
       "    <tr>\n",
       "      <th>1</th>\n",
       "      <td>33.0</td>\n",
       "      <td>2412.8305</td>\n",
       "      <td>0.000000</td>\n",
       "      <td>0.157153</td>\n",
       "      <td>0.755472</td>\n",
       "      <td>0.453216</td>\n",
       "      <td>0.715147</td>\n",
       "      <td>0.000000</td>\n",
       "      <td>0.523432</td>\n",
       "      <td>0.388729</td>\n",
       "      <td>0.519233</td>\n",
       "      <td>0.799167</td>\n",
       "      <td>0.563573</td>\n",
       "      <td>0.111216</td>\n",
       "      <td>ARGILLIT</td>\n",
       "      <td>0.0</td>\n",
       "    </tr>\n",
       "    <tr>\n",
       "      <th>2</th>\n",
       "      <td>33.0</td>\n",
       "      <td>2522.5575</td>\n",
       "      <td>0.000000</td>\n",
       "      <td>0.172235</td>\n",
       "      <td>0.941742</td>\n",
       "      <td>0.525711</td>\n",
       "      <td>0.668600</td>\n",
       "      <td>0.000000</td>\n",
       "      <td>0.588924</td>\n",
       "      <td>0.515214</td>\n",
       "      <td>0.527139</td>\n",
       "      <td>0.799167</td>\n",
       "      <td>0.551152</td>\n",
       "      <td>0.172359</td>\n",
       "      <td>ARGILLIT</td>\n",
       "      <td>0.0</td>\n",
       "    </tr>\n",
       "    <tr>\n",
       "      <th>3</th>\n",
       "      <td>49.0</td>\n",
       "      <td>2396.3625</td>\n",
       "      <td>0.381248</td>\n",
       "      <td>0.246838</td>\n",
       "      <td>0.116913</td>\n",
       "      <td>0.732654</td>\n",
       "      <td>0.151299</td>\n",
       "      <td>0.165219</td>\n",
       "      <td>0.656955</td>\n",
       "      <td>0.445917</td>\n",
       "      <td>0.575175</td>\n",
       "      <td>0.799167</td>\n",
       "      <td>0.429433</td>\n",
       "      <td>0.253563</td>\n",
       "      <td>ARGILLIT</td>\n",
       "      <td>0.0</td>\n",
       "    </tr>\n",
       "    <tr>\n",
       "      <th>4</th>\n",
       "      <td>49.0</td>\n",
       "      <td>2399.0475</td>\n",
       "      <td>0.356867</td>\n",
       "      <td>0.226241</td>\n",
       "      <td>0.155473</td>\n",
       "      <td>0.613300</td>\n",
       "      <td>0.173949</td>\n",
       "      <td>0.297194</td>\n",
       "      <td>0.773218</td>\n",
       "      <td>0.392743</td>\n",
       "      <td>0.575725</td>\n",
       "      <td>0.799167</td>\n",
       "      <td>0.447169</td>\n",
       "      <td>0.959633</td>\n",
       "      <td>ARGILLIT</td>\n",
       "      <td>0.0</td>\n",
       "    </tr>\n",
       "  </tbody>\n",
       "</table>\n",
       "</div>"
      ],
      "text/plain": [
       "   well id   depth, m        bk       GZ1       GZ2       GZ3       GZ4  \\\n",
       "0     12.0  3042.4630  0.455779  0.774000  0.774000  0.332846  0.476545   \n",
       "1     33.0  2412.8305  0.000000  0.157153  0.755472  0.453216  0.715147   \n",
       "2     33.0  2522.5575  0.000000  0.172235  0.941742  0.525711  0.668600   \n",
       "3     49.0  2396.3625  0.381248  0.246838  0.116913  0.732654  0.151299   \n",
       "4     49.0  2399.0475  0.356867  0.226241  0.155473  0.613300  0.173949   \n",
       "\n",
       "        GZ5       GZ7       DGK      NKTD      NKTM      NKTR      ALPS  \\\n",
       "0  0.774000  0.244898  0.123651  0.774000  0.799167  0.174639  0.727789   \n",
       "1  0.000000  0.523432  0.388729  0.519233  0.799167  0.563573  0.111216   \n",
       "2  0.000000  0.588924  0.515214  0.527139  0.799167  0.551152  0.172359   \n",
       "3  0.165219  0.656955  0.445917  0.575175  0.799167  0.429433  0.253563   \n",
       "4  0.297194  0.773218  0.392743  0.575725  0.799167  0.447169  0.959633   \n",
       "\n",
       "       lith  goal  \n",
       "0        NK   0.0  \n",
       "1  ARGILLIT   0.0  \n",
       "2  ARGILLIT   0.0  \n",
       "3  ARGILLIT   0.0  \n",
       "4  ARGILLIT   0.0  "
      ]
     },
     "execution_count": 165,
     "metadata": {},
     "output_type": "execute_result"
    }
   ],
   "source": [
    "train_df.head()"
   ]
  },
  {
   "cell_type": "code",
   "execution_count": 166,
   "metadata": {},
   "outputs": [
    {
     "data": {
      "text/html": [
       "<div>\n",
       "<style scoped>\n",
       "    .dataframe tbody tr th:only-of-type {\n",
       "        vertical-align: middle;\n",
       "    }\n",
       "\n",
       "    .dataframe tbody tr th {\n",
       "        vertical-align: top;\n",
       "    }\n",
       "\n",
       "    .dataframe thead th {\n",
       "        text-align: right;\n",
       "    }\n",
       "</style>\n",
       "<table border=\"1\" class=\"dataframe\">\n",
       "  <thead>\n",
       "    <tr style=\"text-align: right;\">\n",
       "      <th></th>\n",
       "      <th>well id</th>\n",
       "      <th>depth, m</th>\n",
       "      <th>bk</th>\n",
       "      <th>GZ1</th>\n",
       "      <th>GZ2</th>\n",
       "      <th>GZ3</th>\n",
       "      <th>GZ4</th>\n",
       "      <th>GZ5</th>\n",
       "      <th>GZ7</th>\n",
       "      <th>DGK</th>\n",
       "      <th>NKTD</th>\n",
       "      <th>NKTM</th>\n",
       "      <th>NKTR</th>\n",
       "      <th>ALPS</th>\n",
       "      <th>goal</th>\n",
       "    </tr>\n",
       "  </thead>\n",
       "  <tbody>\n",
       "    <tr>\n",
       "      <th>count</th>\n",
       "      <td>465096.000000</td>\n",
       "      <td>465096.000000</td>\n",
       "      <td>465096.000000</td>\n",
       "      <td>465096.000000</td>\n",
       "      <td>465096.000000</td>\n",
       "      <td>465096.000000</td>\n",
       "      <td>465096.000000</td>\n",
       "      <td>465096.000000</td>\n",
       "      <td>465096.000000</td>\n",
       "      <td>465096.000000</td>\n",
       "      <td>465096.000000</td>\n",
       "      <td>465096.000000</td>\n",
       "      <td>465096.000000</td>\n",
       "      <td>465096.000000</td>\n",
       "      <td>465096.000000</td>\n",
       "    </tr>\n",
       "    <tr>\n",
       "      <th>mean</th>\n",
       "      <td>156.624994</td>\n",
       "      <td>2340.714509</td>\n",
       "      <td>0.301883</td>\n",
       "      <td>0.244036</td>\n",
       "      <td>0.338601</td>\n",
       "      <td>0.446509</td>\n",
       "      <td>0.161452</td>\n",
       "      <td>0.097156</td>\n",
       "      <td>0.180136</td>\n",
       "      <td>0.141877</td>\n",
       "      <td>0.258189</td>\n",
       "      <td>0.259655</td>\n",
       "      <td>0.128890</td>\n",
       "      <td>0.380011</td>\n",
       "      <td>0.150227</td>\n",
       "    </tr>\n",
       "    <tr>\n",
       "      <th>std</th>\n",
       "      <td>86.518091</td>\n",
       "      <td>402.562961</td>\n",
       "      <td>0.186004</td>\n",
       "      <td>0.174513</td>\n",
       "      <td>0.295100</td>\n",
       "      <td>0.274443</td>\n",
       "      <td>0.287997</td>\n",
       "      <td>0.165398</td>\n",
       "      <td>0.292954</td>\n",
       "      <td>0.210669</td>\n",
       "      <td>0.205655</td>\n",
       "      <td>0.272957</td>\n",
       "      <td>0.208668</td>\n",
       "      <td>0.253311</td>\n",
       "      <td>0.357294</td>\n",
       "    </tr>\n",
       "    <tr>\n",
       "      <th>min</th>\n",
       "      <td>0.000000</td>\n",
       "      <td>0.000000</td>\n",
       "      <td>0.000000</td>\n",
       "      <td>0.000000</td>\n",
       "      <td>0.000000</td>\n",
       "      <td>0.000000</td>\n",
       "      <td>0.000000</td>\n",
       "      <td>0.000000</td>\n",
       "      <td>0.000000</td>\n",
       "      <td>0.000000</td>\n",
       "      <td>0.000000</td>\n",
       "      <td>0.000000</td>\n",
       "      <td>0.000000</td>\n",
       "      <td>0.000000</td>\n",
       "      <td>0.000000</td>\n",
       "    </tr>\n",
       "    <tr>\n",
       "      <th>25%</th>\n",
       "      <td>80.000000</td>\n",
       "      <td>2173.776000</td>\n",
       "      <td>0.196348</td>\n",
       "      <td>0.151864</td>\n",
       "      <td>0.126251</td>\n",
       "      <td>0.236196</td>\n",
       "      <td>0.000000</td>\n",
       "      <td>0.000000</td>\n",
       "      <td>0.000000</td>\n",
       "      <td>0.000000</td>\n",
       "      <td>0.000000</td>\n",
       "      <td>0.000000</td>\n",
       "      <td>0.000000</td>\n",
       "      <td>0.168399</td>\n",
       "      <td>0.000000</td>\n",
       "    </tr>\n",
       "    <tr>\n",
       "      <th>50%</th>\n",
       "      <td>166.000000</td>\n",
       "      <td>2391.977000</td>\n",
       "      <td>0.317619</td>\n",
       "      <td>0.231755</td>\n",
       "      <td>0.182283</td>\n",
       "      <td>0.453581</td>\n",
       "      <td>0.000000</td>\n",
       "      <td>0.000000</td>\n",
       "      <td>0.000000</td>\n",
       "      <td>0.000000</td>\n",
       "      <td>0.316475</td>\n",
       "      <td>0.000000</td>\n",
       "      <td>0.000000</td>\n",
       "      <td>0.318824</td>\n",
       "      <td>0.000000</td>\n",
       "    </tr>\n",
       "    <tr>\n",
       "      <th>75%</th>\n",
       "      <td>232.000000</td>\n",
       "      <td>2581.180000</td>\n",
       "      <td>0.388959</td>\n",
       "      <td>0.287222</td>\n",
       "      <td>0.567430</td>\n",
       "      <td>0.668230</td>\n",
       "      <td>0.156749</td>\n",
       "      <td>0.183785</td>\n",
       "      <td>0.351324</td>\n",
       "      <td>0.357816</td>\n",
       "      <td>0.393153</td>\n",
       "      <td>0.523462</td>\n",
       "      <td>0.358733</td>\n",
       "      <td>0.559920</td>\n",
       "      <td>0.000000</td>\n",
       "    </tr>\n",
       "    <tr>\n",
       "      <th>max</th>\n",
       "      <td>287.000000</td>\n",
       "      <td>3155.591000</td>\n",
       "      <td>0.999848</td>\n",
       "      <td>0.999973</td>\n",
       "      <td>0.999756</td>\n",
       "      <td>0.999994</td>\n",
       "      <td>0.999960</td>\n",
       "      <td>0.998834</td>\n",
       "      <td>0.999648</td>\n",
       "      <td>0.999514</td>\n",
       "      <td>0.799599</td>\n",
       "      <td>0.799167</td>\n",
       "      <td>0.998569</td>\n",
       "      <td>0.999996</td>\n",
       "      <td>1.000000</td>\n",
       "    </tr>\n",
       "  </tbody>\n",
       "</table>\n",
       "</div>"
      ],
      "text/plain": [
       "             well id       depth, m             bk            GZ1  \\\n",
       "count  465096.000000  465096.000000  465096.000000  465096.000000   \n",
       "mean      156.624994    2340.714509       0.301883       0.244036   \n",
       "std        86.518091     402.562961       0.186004       0.174513   \n",
       "min         0.000000       0.000000       0.000000       0.000000   \n",
       "25%        80.000000    2173.776000       0.196348       0.151864   \n",
       "50%       166.000000    2391.977000       0.317619       0.231755   \n",
       "75%       232.000000    2581.180000       0.388959       0.287222   \n",
       "max       287.000000    3155.591000       0.999848       0.999973   \n",
       "\n",
       "                 GZ2            GZ3            GZ4            GZ5  \\\n",
       "count  465096.000000  465096.000000  465096.000000  465096.000000   \n",
       "mean        0.338601       0.446509       0.161452       0.097156   \n",
       "std         0.295100       0.274443       0.287997       0.165398   \n",
       "min         0.000000       0.000000       0.000000       0.000000   \n",
       "25%         0.126251       0.236196       0.000000       0.000000   \n",
       "50%         0.182283       0.453581       0.000000       0.000000   \n",
       "75%         0.567430       0.668230       0.156749       0.183785   \n",
       "max         0.999756       0.999994       0.999960       0.998834   \n",
       "\n",
       "                 GZ7            DGK           NKTD           NKTM  \\\n",
       "count  465096.000000  465096.000000  465096.000000  465096.000000   \n",
       "mean        0.180136       0.141877       0.258189       0.259655   \n",
       "std         0.292954       0.210669       0.205655       0.272957   \n",
       "min         0.000000       0.000000       0.000000       0.000000   \n",
       "25%         0.000000       0.000000       0.000000       0.000000   \n",
       "50%         0.000000       0.000000       0.316475       0.000000   \n",
       "75%         0.351324       0.357816       0.393153       0.523462   \n",
       "max         0.999648       0.999514       0.799599       0.799167   \n",
       "\n",
       "                NKTR           ALPS           goal  \n",
       "count  465096.000000  465096.000000  465096.000000  \n",
       "mean        0.128890       0.380011       0.150227  \n",
       "std         0.208668       0.253311       0.357294  \n",
       "min         0.000000       0.000000       0.000000  \n",
       "25%         0.000000       0.168399       0.000000  \n",
       "50%         0.000000       0.318824       0.000000  \n",
       "75%         0.358733       0.559920       0.000000  \n",
       "max         0.998569       0.999996       1.000000  "
      ]
     },
     "execution_count": 166,
     "metadata": {},
     "output_type": "execute_result"
    }
   ],
   "source": [
    "train_df.describe()"
   ]
  },
  {
   "cell_type": "markdown",
   "metadata": {},
   "source": [
    "Посмотрим соотношения классов и узнаем насколько классы сбалансированы"
   ]
  },
  {
   "cell_type": "code",
   "execution_count": 167,
   "metadata": {},
   "outputs": [
    {
     "data": {
      "image/png": "[encoded data removed]",
      "text/plain": [
       "<Figure size 432x288 with 1 Axes>"
      ]
     },
     "metadata": {
      "needs_background": "light"
     },
     "output_type": "display_data"
    }
   ],
   "source": [
    "sns.countplot(train_df['goal']);"
   ]
  },
  {
   "cell_type": "code",
   "execution_count": 168,
   "metadata": {},
   "outputs": [],
   "source": [
    "# Функция принимате на вход pd.DataFrame \n",
    "# Возвращает таблицу, в которой указано сколько пустых значений по каждой колонке\n",
    "def na_count_by_col(df, percentage=False):\n",
    "    columns = df.columns\n",
    "    na_count = []\n",
    "    na_count_perc = []\n",
    "    for col in columns:\n",
    "        na_in_col = len(df[col]) - df[col].count()\n",
    "        na_count.append( na_in_col )\n",
    "        na_count_perc.append( na_in_col / len(df[col]))\n",
    "    if not percentage:\n",
    "        d = {'column_name' : columns, 'na_count' : na_count}\n",
    "    else:\n",
    "        d = {'column_name' : columns, 'na_count' : na_count_perc}\n",
    "    return pd.DataFrame(data=d)"
   ]
  },
  {
   "cell_type": "code",
   "execution_count": 169,
   "metadata": {},
   "outputs": [
    {
     "data": {
      "text/html": [
       "<div>\n",
       "<style scoped>\n",
       "    .dataframe tbody tr th:only-of-type {\n",
       "        vertical-align: middle;\n",
       "    }\n",
       "\n",
       "    .dataframe tbody tr th {\n",
       "        vertical-align: top;\n",
       "    }\n",
       "\n",
       "    .dataframe thead th {\n",
       "        text-align: right;\n",
       "    }\n",
       "</style>\n",
       "<table border=\"1\" class=\"dataframe\">\n",
       "  <thead>\n",
       "    <tr style=\"text-align: right;\">\n",
       "      <th></th>\n",
       "      <th>column_name</th>\n",
       "      <th>na_count</th>\n",
       "    </tr>\n",
       "  </thead>\n",
       "  <tbody>\n",
       "    <tr>\n",
       "      <th>0</th>\n",
       "      <td>well id</td>\n",
       "      <td>0</td>\n",
       "    </tr>\n",
       "    <tr>\n",
       "      <th>1</th>\n",
       "      <td>depth, m</td>\n",
       "      <td>0</td>\n",
       "    </tr>\n",
       "    <tr>\n",
       "      <th>2</th>\n",
       "      <td>bk</td>\n",
       "      <td>0</td>\n",
       "    </tr>\n",
       "    <tr>\n",
       "      <th>3</th>\n",
       "      <td>GZ1</td>\n",
       "      <td>0</td>\n",
       "    </tr>\n",
       "    <tr>\n",
       "      <th>4</th>\n",
       "      <td>GZ2</td>\n",
       "      <td>0</td>\n",
       "    </tr>\n",
       "    <tr>\n",
       "      <th>5</th>\n",
       "      <td>GZ3</td>\n",
       "      <td>0</td>\n",
       "    </tr>\n",
       "    <tr>\n",
       "      <th>6</th>\n",
       "      <td>GZ4</td>\n",
       "      <td>0</td>\n",
       "    </tr>\n",
       "    <tr>\n",
       "      <th>7</th>\n",
       "      <td>GZ5</td>\n",
       "      <td>0</td>\n",
       "    </tr>\n",
       "    <tr>\n",
       "      <th>8</th>\n",
       "      <td>GZ7</td>\n",
       "      <td>0</td>\n",
       "    </tr>\n",
       "    <tr>\n",
       "      <th>9</th>\n",
       "      <td>DGK</td>\n",
       "      <td>0</td>\n",
       "    </tr>\n",
       "    <tr>\n",
       "      <th>10</th>\n",
       "      <td>NKTD</td>\n",
       "      <td>0</td>\n",
       "    </tr>\n",
       "    <tr>\n",
       "      <th>11</th>\n",
       "      <td>NKTM</td>\n",
       "      <td>0</td>\n",
       "    </tr>\n",
       "    <tr>\n",
       "      <th>12</th>\n",
       "      <td>NKTR</td>\n",
       "      <td>0</td>\n",
       "    </tr>\n",
       "    <tr>\n",
       "      <th>13</th>\n",
       "      <td>ALPS</td>\n",
       "      <td>0</td>\n",
       "    </tr>\n",
       "    <tr>\n",
       "      <th>14</th>\n",
       "      <td>lith</td>\n",
       "      <td>0</td>\n",
       "    </tr>\n",
       "    <tr>\n",
       "      <th>15</th>\n",
       "      <td>goal</td>\n",
       "      <td>0</td>\n",
       "    </tr>\n",
       "  </tbody>\n",
       "</table>\n",
       "</div>"
      ],
      "text/plain": [
       "   column_name  na_count\n",
       "0      well id         0\n",
       "1     depth, m         0\n",
       "2           bk         0\n",
       "3          GZ1         0\n",
       "4          GZ2         0\n",
       "5          GZ3         0\n",
       "6          GZ4         0\n",
       "7          GZ5         0\n",
       "8          GZ7         0\n",
       "9          DGK         0\n",
       "10        NKTD         0\n",
       "11        NKTM         0\n",
       "12        NKTR         0\n",
       "13        ALPS         0\n",
       "14        lith         0\n",
       "15        goal         0"
      ]
     },
     "execution_count": 169,
     "metadata": {},
     "output_type": "execute_result"
    }
   ],
   "source": [
    "na_count_by_col(train_df)"
   ]
  },
  {
   "cell_type": "code",
   "execution_count": 170,
   "metadata": {},
   "outputs": [
    {
     "data": {
      "text/html": [
       "<div>\n",
       "<style scoped>\n",
       "    .dataframe tbody tr th:only-of-type {\n",
       "        vertical-align: middle;\n",
       "    }\n",
       "\n",
       "    .dataframe tbody tr th {\n",
       "        vertical-align: top;\n",
       "    }\n",
       "\n",
       "    .dataframe thead th {\n",
       "        text-align: right;\n",
       "    }\n",
       "</style>\n",
       "<table border=\"1\" class=\"dataframe\">\n",
       "  <thead>\n",
       "    <tr style=\"text-align: right;\">\n",
       "      <th></th>\n",
       "      <th>well id</th>\n",
       "      <th>depth, m</th>\n",
       "      <th>bk</th>\n",
       "      <th>GZ1</th>\n",
       "      <th>GZ2</th>\n",
       "      <th>GZ3</th>\n",
       "      <th>GZ4</th>\n",
       "      <th>GZ5</th>\n",
       "      <th>GZ7</th>\n",
       "      <th>DGK</th>\n",
       "      <th>NKTD</th>\n",
       "      <th>NKTM</th>\n",
       "      <th>NKTR</th>\n",
       "      <th>ALPS</th>\n",
       "      <th>lith</th>\n",
       "      <th>goal</th>\n",
       "    </tr>\n",
       "  </thead>\n",
       "  <tbody>\n",
       "  </tbody>\n",
       "</table>\n",
       "</div>"
      ],
      "text/plain": [
       "Empty DataFrame\n",
       "Columns: [well id, depth, m, bk, GZ1, GZ2, GZ3, GZ4, GZ5, GZ7, DGK, NKTD, NKTM, NKTR, ALPS, lith, goal]\n",
       "Index: []"
      ]
     },
     "execution_count": 170,
     "metadata": {},
     "output_type": "execute_result"
    }
   ],
   "source": [
    "train_df[train_df['well id'].isnull()].head()"
   ]
  },
  {
   "cell_type": "markdown",
   "metadata": {},
   "source": [
    "Видим, что там, где поле *'well id'* принимает значение 'NaN' все остальные поля равны NaN => эти строки удаляем  "
   ]
  },
  {
   "cell_type": "code",
   "execution_count": 52,
   "metadata": {},
   "outputs": [],
   "source": [
    "train_df.drop(train_df[train_df['well id'].isnull()].index, inplace=True)"
   ]
  },
  {
   "cell_type": "markdown",
   "metadata": {},
   "source": [
    "Проверим еще раз колонки на пустые значения"
   ]
  },
  {
   "cell_type": "code",
   "execution_count": 171,
   "metadata": {},
   "outputs": [
    {
     "data": {
      "text/html": [
       "<div>\n",
       "<style scoped>\n",
       "    .dataframe tbody tr th:only-of-type {\n",
       "        vertical-align: middle;\n",
       "    }\n",
       "\n",
       "    .dataframe tbody tr th {\n",
       "        vertical-align: top;\n",
       "    }\n",
       "\n",
       "    .dataframe thead th {\n",
       "        text-align: right;\n",
       "    }\n",
       "</style>\n",
       "<table border=\"1\" class=\"dataframe\">\n",
       "  <thead>\n",
       "    <tr style=\"text-align: right;\">\n",
       "      <th></th>\n",
       "      <th>column_name</th>\n",
       "      <th>na_count</th>\n",
       "    </tr>\n",
       "  </thead>\n",
       "  <tbody>\n",
       "    <tr>\n",
       "      <th>0</th>\n",
       "      <td>well id</td>\n",
       "      <td>0</td>\n",
       "    </tr>\n",
       "    <tr>\n",
       "      <th>1</th>\n",
       "      <td>depth, m</td>\n",
       "      <td>0</td>\n",
       "    </tr>\n",
       "    <tr>\n",
       "      <th>2</th>\n",
       "      <td>bk</td>\n",
       "      <td>0</td>\n",
       "    </tr>\n",
       "    <tr>\n",
       "      <th>3</th>\n",
       "      <td>GZ1</td>\n",
       "      <td>0</td>\n",
       "    </tr>\n",
       "    <tr>\n",
       "      <th>4</th>\n",
       "      <td>GZ2</td>\n",
       "      <td>0</td>\n",
       "    </tr>\n",
       "    <tr>\n",
       "      <th>5</th>\n",
       "      <td>GZ3</td>\n",
       "      <td>0</td>\n",
       "    </tr>\n",
       "    <tr>\n",
       "      <th>6</th>\n",
       "      <td>GZ4</td>\n",
       "      <td>0</td>\n",
       "    </tr>\n",
       "    <tr>\n",
       "      <th>7</th>\n",
       "      <td>GZ5</td>\n",
       "      <td>0</td>\n",
       "    </tr>\n",
       "    <tr>\n",
       "      <th>8</th>\n",
       "      <td>GZ7</td>\n",
       "      <td>0</td>\n",
       "    </tr>\n",
       "    <tr>\n",
       "      <th>9</th>\n",
       "      <td>DGK</td>\n",
       "      <td>0</td>\n",
       "    </tr>\n",
       "    <tr>\n",
       "      <th>10</th>\n",
       "      <td>NKTD</td>\n",
       "      <td>0</td>\n",
       "    </tr>\n",
       "    <tr>\n",
       "      <th>11</th>\n",
       "      <td>NKTM</td>\n",
       "      <td>0</td>\n",
       "    </tr>\n",
       "    <tr>\n",
       "      <th>12</th>\n",
       "      <td>NKTR</td>\n",
       "      <td>0</td>\n",
       "    </tr>\n",
       "    <tr>\n",
       "      <th>13</th>\n",
       "      <td>ALPS</td>\n",
       "      <td>0</td>\n",
       "    </tr>\n",
       "    <tr>\n",
       "      <th>14</th>\n",
       "      <td>lith</td>\n",
       "      <td>0</td>\n",
       "    </tr>\n",
       "    <tr>\n",
       "      <th>15</th>\n",
       "      <td>goal</td>\n",
       "      <td>0</td>\n",
       "    </tr>\n",
       "  </tbody>\n",
       "</table>\n",
       "</div>"
      ],
      "text/plain": [
       "   column_name  na_count\n",
       "0      well id         0\n",
       "1     depth, m         0\n",
       "2           bk         0\n",
       "3          GZ1         0\n",
       "4          GZ2         0\n",
       "5          GZ3         0\n",
       "6          GZ4         0\n",
       "7          GZ5         0\n",
       "8          GZ7         0\n",
       "9          DGK         0\n",
       "10        NKTD         0\n",
       "11        NKTM         0\n",
       "12        NKTR         0\n",
       "13        ALPS         0\n",
       "14        lith         0\n",
       "15        goal         0"
      ]
     },
     "execution_count": 171,
     "metadata": {},
     "output_type": "execute_result"
    }
   ],
   "source": [
    "na_count_by_col(train_df).sort_values(by=['na_count'], ascending=False)"
   ]
  },
  {
   "cell_type": "markdown",
   "metadata": {},
   "source": [
    "<span style=\"color:red\">__КОСТЫЛЬ__</span>"
   ]
  },
  {
   "cell_type": "code",
   "execution_count": 172,
   "metadata": {},
   "outputs": [],
   "source": [
    "train_df = train_df.fillna(0)"
   ]
  },
  {
   "cell_type": "code",
   "execution_count": 173,
   "metadata": {},
   "outputs": [
    {
     "data": {
      "text/plain": [
       "<matplotlib.axes._subplots.AxesSubplot at 0x1e2301abda0>"
      ]
     },
     "execution_count": 173,
     "metadata": {},
     "output_type": "execute_result"
    },
    {
     "data": {
      "image/png": "[encoded data removed]",
      "text/plain": [
       "<Figure size 576x432 with 1 Axes>"
      ]
     },
     "metadata": {
      "needs_background": "light"
     },
     "output_type": "display_data"
    }
   ],
   "source": [
    "plt.figure(figsize=(8,6))\n",
    "sns.countplot(train_df['goal'])"
   ]
  },
  {
   "cell_type": "markdown",
   "metadata": {},
   "source": [
    "### 2.2. Тестовый набор "
   ]
  },
  {
   "cell_type": "code",
   "execution_count": 174,
   "metadata": {},
   "outputs": [],
   "source": [
    "test_df = pd.read_excel('test.xlsx')"
   ]
  },
  {
   "cell_type": "code",
   "execution_count": 175,
   "metadata": {},
   "outputs": [
    {
     "data": {
      "text/html": [
       "<div>\n",
       "<style scoped>\n",
       "    .dataframe tbody tr th:only-of-type {\n",
       "        vertical-align: middle;\n",
       "    }\n",
       "\n",
       "    .dataframe tbody tr th {\n",
       "        vertical-align: top;\n",
       "    }\n",
       "\n",
       "    .dataframe thead th {\n",
       "        text-align: right;\n",
       "    }\n",
       "</style>\n",
       "<table border=\"1\" class=\"dataframe\">\n",
       "  <thead>\n",
       "    <tr style=\"text-align: right;\">\n",
       "      <th></th>\n",
       "      <th>id</th>\n",
       "      <th>well id</th>\n",
       "      <th>depth, m</th>\n",
       "      <th>bk</th>\n",
       "      <th>GZ1</th>\n",
       "      <th>GZ2</th>\n",
       "      <th>GZ3</th>\n",
       "      <th>GZ4</th>\n",
       "      <th>GZ5</th>\n",
       "      <th>GZ7</th>\n",
       "      <th>DGK</th>\n",
       "      <th>NKTD</th>\n",
       "      <th>NKTM</th>\n",
       "      <th>NKTR</th>\n",
       "      <th>ALPS</th>\n",
       "    </tr>\n",
       "  </thead>\n",
       "  <tbody>\n",
       "    <tr>\n",
       "      <th>0</th>\n",
       "      <td>1</td>\n",
       "      <td>47</td>\n",
       "      <td>2465.5460</td>\n",
       "      <td>0.665198</td>\n",
       "      <td>0.259688</td>\n",
       "      <td>0.865866</td>\n",
       "      <td>0.526683</td>\n",
       "      <td>0.116218</td>\n",
       "      <td>0.464870</td>\n",
       "      <td>0.124486</td>\n",
       "      <td>0.196296</td>\n",
       "      <td>0.483192</td>\n",
       "      <td>0.643774</td>\n",
       "      <td>0.376472</td>\n",
       "      <td>0.261831</td>\n",
       "    </tr>\n",
       "    <tr>\n",
       "      <th>1</th>\n",
       "      <td>2</td>\n",
       "      <td>47</td>\n",
       "      <td>2465.6355</td>\n",
       "      <td>0.115153</td>\n",
       "      <td>0.258287</td>\n",
       "      <td>0.161988</td>\n",
       "      <td>0.583114</td>\n",
       "      <td>0.122256</td>\n",
       "      <td>0.477795</td>\n",
       "      <td>0.118895</td>\n",
       "      <td>0.146578</td>\n",
       "      <td>0.491132</td>\n",
       "      <td>0.655735</td>\n",
       "      <td>0.359872</td>\n",
       "      <td>0.236470</td>\n",
       "    </tr>\n",
       "    <tr>\n",
       "      <th>2</th>\n",
       "      <td>3</td>\n",
       "      <td>47</td>\n",
       "      <td>2465.7250</td>\n",
       "      <td>0.155254</td>\n",
       "      <td>0.318849</td>\n",
       "      <td>0.125817</td>\n",
       "      <td>0.639544</td>\n",
       "      <td>0.128194</td>\n",
       "      <td>0.497212</td>\n",
       "      <td>0.111693</td>\n",
       "      <td>0.968615</td>\n",
       "      <td>0.499726</td>\n",
       "      <td>0.667695</td>\n",
       "      <td>0.343272</td>\n",
       "      <td>0.266756</td>\n",
       "    </tr>\n",
       "    <tr>\n",
       "      <th>3</th>\n",
       "      <td>4</td>\n",
       "      <td>47</td>\n",
       "      <td>2465.8145</td>\n",
       "      <td>0.125315</td>\n",
       "      <td>0.474215</td>\n",
       "      <td>0.149127</td>\n",
       "      <td>0.638636</td>\n",
       "      <td>0.128239</td>\n",
       "      <td>0.478265</td>\n",
       "      <td>0.987464</td>\n",
       "      <td>0.546126</td>\n",
       "      <td>0.492469</td>\n",
       "      <td>0.659642</td>\n",
       "      <td>0.341159</td>\n",
       "      <td>0.332568</td>\n",
       "    </tr>\n",
       "    <tr>\n",
       "      <th>4</th>\n",
       "      <td>5</td>\n",
       "      <td>47</td>\n",
       "      <td>2465.9040</td>\n",
       "      <td>0.953756</td>\n",
       "      <td>0.638341</td>\n",
       "      <td>0.172437</td>\n",
       "      <td>0.637663</td>\n",
       "      <td>0.113455</td>\n",
       "      <td>0.465892</td>\n",
       "      <td>0.858188</td>\n",
       "      <td>0.123651</td>\n",
       "      <td>0.485865</td>\n",
       "      <td>0.651513</td>\n",
       "      <td>0.339456</td>\n",
       "      <td>0.398383</td>\n",
       "    </tr>\n",
       "  </tbody>\n",
       "</table>\n",
       "</div>"
      ],
      "text/plain": [
       "   id  well id   depth, m        bk       GZ1       GZ2       GZ3       GZ4  \\\n",
       "0   1       47  2465.5460  0.665198  0.259688  0.865866  0.526683  0.116218   \n",
       "1   2       47  2465.6355  0.115153  0.258287  0.161988  0.583114  0.122256   \n",
       "2   3       47  2465.7250  0.155254  0.318849  0.125817  0.639544  0.128194   \n",
       "3   4       47  2465.8145  0.125315  0.474215  0.149127  0.638636  0.128239   \n",
       "4   5       47  2465.9040  0.953756  0.638341  0.172437  0.637663  0.113455   \n",
       "\n",
       "        GZ5       GZ7       DGK      NKTD      NKTM      NKTR      ALPS  \n",
       "0  0.464870  0.124486  0.196296  0.483192  0.643774  0.376472  0.261831  \n",
       "1  0.477795  0.118895  0.146578  0.491132  0.655735  0.359872  0.236470  \n",
       "2  0.497212  0.111693  0.968615  0.499726  0.667695  0.343272  0.266756  \n",
       "3  0.478265  0.987464  0.546126  0.492469  0.659642  0.341159  0.332568  \n",
       "4  0.465892  0.858188  0.123651  0.485865  0.651513  0.339456  0.398383  "
      ]
     },
     "execution_count": 175,
     "metadata": {},
     "output_type": "execute_result"
    }
   ],
   "source": [
    "test_df.head()"
   ]
  },
  {
   "cell_type": "markdown",
   "metadata": {},
   "source": [
    "## 3. Предсказанию 'lith'"
   ]
  },
  {
   "cell_type": "markdown",
   "metadata": {},
   "source": [
    "### 3.1. Подготовка данных"
   ]
  },
  {
   "cell_type": "code",
   "execution_count": 185,
   "metadata": {},
   "outputs": [],
   "source": [
    "le = LabelEncoder()"
   ]
  },
  {
   "cell_type": "code",
   "execution_count": 192,
   "metadata": {},
   "outputs": [],
   "source": [
    "train_df['lith'] = train_df['lith'].astype('str')"
   ]
  },
  {
   "cell_type": "code",
   "execution_count": 193,
   "metadata": {},
   "outputs": [
    {
     "data": {
      "text/plain": [
       "0                NK\n",
       "1          ARGILLIT\n",
       "2          ARGILLIT\n",
       "3          ARGILLIT\n",
       "4          ARGILLIT\n",
       "5          ARGILLIT\n",
       "6          ARGILLIT\n",
       "7          ARGILLIT\n",
       "8          ARGILLIT\n",
       "9          ARGILLIT\n",
       "10            DENSE\n",
       "11        ALEVROLIT\n",
       "12         ARGILLIT\n",
       "13         ARGILLIT\n",
       "14         ARGILLIT\n",
       "15         ARGILLIT\n",
       "16         ARGILLIT\n",
       "17         ARGILLIT\n",
       "18         ARGILLIT\n",
       "19         ARGILLIT\n",
       "20         ARGILLIT\n",
       "21            DENSE\n",
       "22            DENSE\n",
       "23             SAND\n",
       "24            DENSE\n",
       "25        ALEVROLIT\n",
       "26        ALEVROLIT\n",
       "27             SAND\n",
       "28         ARGILLIT\n",
       "29             SAND\n",
       "            ...    \n",
       "465066     ARGILLIT\n",
       "465067        DENSE\n",
       "465068        DENSE\n",
       "465069        DENSE\n",
       "465070        DENSE\n",
       "465071        DENSE\n",
       "465072        DENSE\n",
       "465073        DENSE\n",
       "465074     ARGILLIT\n",
       "465075     ARGILLIT\n",
       "465076     ARGILLIT\n",
       "465077     ARGILLIT\n",
       "465078     ARGILLIT\n",
       "465079     ARGILLIT\n",
       "465080     ARGILLIT\n",
       "465081     ARGILLIT\n",
       "465082     ARGILLIT\n",
       "465083     ARGILLIT\n",
       "465084     ARGILLIT\n",
       "465085     ARGILLIT\n",
       "465086     ARGILLIT\n",
       "465087     ARGILLIT\n",
       "465088     ARGILLIT\n",
       "465089     ARGILLIT\n",
       "465090     ARGILLIT\n",
       "465091     ARGILLIT\n",
       "465092     ARGILLIT\n",
       "465093     ARGILLIT\n",
       "465094     ARGILLIT\n",
       "465095     ARGILLIT\n",
       "Name: lith, Length: 465096, dtype: object"
      ]
     },
     "execution_count": 193,
     "metadata": {},
     "output_type": "execute_result"
    }
   ],
   "source": [
    "train_df['lith']"
   ]
  },
  {
   "cell_type": "code",
   "execution_count": 194,
   "metadata": {},
   "outputs": [
    {
     "data": {
      "text/plain": [
       "((465096, 14), (465096,))"
      ]
     },
     "execution_count": 194,
     "metadata": {},
     "output_type": "execute_result"
    }
   ],
   "source": [
    "X1 = train_df.drop(['lith', 'goal'], axis=1)\n",
    "y1 = train_df['lith']\n",
    "X1.shape, y1.shape"
   ]
  },
  {
   "cell_type": "code",
   "execution_count": 178,
   "metadata": {},
   "outputs": [
    {
     "data": {
      "image/png": "[encoded data removed]",
      "text/plain": [
       "<Figure size 1152x576 with 1 Axes>"
      ]
     },
     "metadata": {
      "needs_background": "light"
     },
     "output_type": "display_data"
    }
   ],
   "source": [
    "plt.figure(figsize=(16,8))\n",
    "sns.countplot(y1);"
   ]
  },
  {
   "cell_type": "code",
   "execution_count": 195,
   "metadata": {},
   "outputs": [],
   "source": [
    "X_train1, X_test1, y_train1, y_test1 = train_test_split(X1, y1, test_size=0.3, random_state=42)"
   ]
  },
  {
   "cell_type": "markdown",
   "metadata": {},
   "source": [
    "### 3.2. RandomForest  "
   ]
  },
  {
   "cell_type": "markdown",
   "metadata": {},
   "source": [
    "#### 3.2.1. Первый лес"
   ]
  },
  {
   "cell_type": "code",
   "execution_count": 196,
   "metadata": {},
   "outputs": [],
   "source": [
    "rfc_lith = RandomForestClassifier(random_state=42, n_jobs=-1, oob_score=True, n_estimators=20)"
   ]
  },
  {
   "cell_type": "code",
   "execution_count": 197,
   "metadata": {},
   "outputs": [
    {
     "name": "stdout",
     "output_type": "stream",
     "text": [
      "Wall time: 13.9 s\n"
     ]
    },
    {
     "data": {
      "text/plain": [
       "RandomForestClassifier(bootstrap=True, class_weight=None, criterion='gini',\n",
       "                       max_depth=None, max_features='auto', max_leaf_nodes=None,\n",
       "                       min_impurity_decrease=0.0, min_impurity_split=None,\n",
       "                       min_samples_leaf=1, min_samples_split=2,\n",
       "                       min_weight_fraction_leaf=0.0, n_estimators=20, n_jobs=-1,\n",
       "                       oob_score=True, random_state=42, verbose=0,\n",
       "                       warm_start=False)"
      ]
     },
     "execution_count": 197,
     "metadata": {},
     "output_type": "execute_result"
    }
   ],
   "source": [
    "%%time\n",
    "rfc_lith.fit(X_train1, y_train1)"
   ]
  },
  {
   "cell_type": "code",
   "execution_count": 198,
   "metadata": {},
   "outputs": [],
   "source": [
    "y_lith_pred = rfc_lith.predict(X_test1)"
   ]
  },
  {
   "cell_type": "code",
   "execution_count": 204,
   "metadata": {},
   "outputs": [
    {
     "data": {
      "text/plain": [
       "array(['SAND', 'ARGILLIT', 'ARGILLIT', ..., 'ARGILLIT', 'SAND',\n",
       "       'ARGILLIT'], dtype='<U13')"
      ]
     },
     "execution_count": 204,
     "metadata": {},
     "output_type": "execute_result"
    }
   ],
   "source": [
    "y_lith_pred = y_lith_pred.astype('str')\n",
    "y_lith_pred"
   ]
  },
  {
   "cell_type": "code",
   "execution_count": 205,
   "metadata": {},
   "outputs": [],
   "source": [
    "def calc_scores(y_test, y_pred):\n",
    "    print('f1:', f1_score(y_test, y_pred, average='macro'))\n",
    "    print('accuracy: ', accuracy_score(y_test, y_pred))\n",
    "    print('precision: ', precision_score(y_test, y_pred, average='macro'))\n",
    "    print('recall: ', recall_score(y_test, y_pred, average='macro'))"
   ]
  },
  {
   "cell_type": "code",
   "execution_count": 207,
   "metadata": {},
   "outputs": [
    {
     "name": "stdout",
     "output_type": "stream",
     "text": [
      "f1: 0.6440961065520345\n",
      "accuracy:  0.8733739939367443\n",
      "precision:  0.7329535720124286\n",
      "recall:  0.5928873628985161\n"
     ]
    }
   ],
   "source": [
    "calc_scores(y_test1, y_lith_pred)"
   ]
  },
  {
   "cell_type": "markdown",
   "metadata": {},
   "source": [
    "#### 3.2.2. Оптимизация параметров случайного леса"
   ]
  },
  {
   "cell_type": "markdown",
   "metadata": {},
   "source": [
    "<span style=\"color:red\">__Доделать оптимизацию__</span>"
   ]
  },
  {
   "cell_type": "code",
   "execution_count": null,
   "metadata": {},
   "outputs": [],
   "source": [
    "# n_estimators — число деревьев в \"лесу\"\n",
    "# criterion — критерий для разбиения выборки в вершине\n",
    "# max_features — число признаков, по которым ищется разбиение\n",
    "# min_samples_leaf — минимальное число объектов в листе\n",
    "# max_depth — максимальная глубина дерева\n",
    "rfc_params = {\n",
    "    'n_estimators': [20], \n",
    "    'max_features': np.arange(3, X_train.shape[1]+1)\n",
    "#     'min_samples_leaf': np.arange(3,26,2),\n",
    "#     'max_depth': np.arange(3,26,2)\n",
    "    }"
   ]
  },
  {
   "cell_type": "code",
   "execution_count": null,
   "metadata": {},
   "outputs": [],
   "source": [
    "rfc_grid = GridSearchCV(rfc, rfc_params, cv=5, n_jobs=-1, verbose=1)"
   ]
  },
  {
   "cell_type": "code",
   "execution_count": null,
   "metadata": {
    "code_folding": []
   },
   "outputs": [],
   "source": [
    "%%time\n",
    "# rfc_grid.fit(X_train, y_train)"
   ]
  },
  {
   "cell_type": "code",
   "execution_count": null,
   "metadata": {},
   "outputs": [],
   "source": [
    "# rfc_grid.best_score_, rfc_grid.best_params_"
   ]
  },
  {
   "cell_type": "markdown",
   "metadata": {},
   "source": [
    "##  4. Предсказание 'goal'"
   ]
  },
  {
   "cell_type": "markdown",
   "metadata": {},
   "source": [
    "### 4.0. Подготовк аданных для линейных моделей "
   ]
  },
  {
   "cell_type": "code",
   "execution_count": 208,
   "metadata": {},
   "outputs": [
    {
     "data": {
      "text/plain": [
       "(465096, 14)"
      ]
     },
     "execution_count": 208,
     "metadata": {},
     "output_type": "execute_result"
    }
   ],
   "source": [
    "X = train_df.drop(['lith', 'goal'], axis=1)\n",
    "y = train_df['goal']\n",
    "X.shape"
   ]
  },
  {
   "cell_type": "code",
   "execution_count": 224,
   "metadata": {},
   "outputs": [],
   "source": [
    "X_train, X_test, y_train, y_test = train_test_split(X, y, test_size=0.3, random_state=42)"
   ]
  },
  {
   "cell_type": "code",
   "execution_count": 91,
   "metadata": {},
   "outputs": [
    {
     "data": {
      "image/png": "[encoded data removed]",
      "text/plain": [
       "<Figure size 1152x576 with 1 Axes>"
      ]
     },
     "metadata": {
      "needs_background": "light"
     },
     "output_type": "display_data"
    }
   ],
   "source": [
    "plt.figure(figsize=(16,8))\n",
    "plt.scatter(train_df[ (train_df['goal'] == 1) & (train_df['well id'] == 2)]['depth, m'], train_df[(train_df['goal'] == 1) & (train_df['well id'] == 2)]['bk'], c = 'green', label = 'Есть нефть')\n",
    "plt.scatter(train_df[ (train_df['goal'] == 0) & (train_df['well id'] == 2)]['depth, m'], train_df[(train_df['goal'] == 0) & (train_df['well id'] == 2)]['bk'], c = 'red', label = 'Нет нефти')\n",
    "plt.xlabel('depth, m')\n",
    "plt.ylabel('bk')\n",
    "plt.legend();"
   ]
  },
  {
   "cell_type": "code",
   "execution_count": 210,
   "metadata": {},
   "outputs": [],
   "source": [
    "scaler = StandardScaler().fit(X_train)"
   ]
  },
  {
   "cell_type": "code",
   "execution_count": 211,
   "metadata": {},
   "outputs": [],
   "source": [
    "X_train_norm = scaler.transform(X_train)"
   ]
  },
  {
   "cell_type": "code",
   "execution_count": 212,
   "metadata": {},
   "outputs": [],
   "source": [
    "X_test_norm = scaler.transform(X_test)"
   ]
  },
  {
   "cell_type": "code",
   "execution_count": 213,
   "metadata": {},
   "outputs": [
    {
     "data": {
      "text/plain": [
       "<matplotlib.axes._subplots.AxesSubplot at 0x1e216a55eb8>"
      ]
     },
     "execution_count": 213,
     "metadata": {},
     "output_type": "execute_result"
    },
    {
     "data": {
      "image/png": "[encoded data removed]",
      "text/plain": [
       "<Figure size 432x288 with 2 Axes>"
      ]
     },
     "metadata": {
      "needs_background": "light"
     },
     "output_type": "display_data"
    }
   ],
   "source": [
    "sns.heatmap(pd.DataFrame(data=X_train_norm).corr())"
   ]
  },
  {
   "cell_type": "markdown",
   "metadata": {},
   "source": [
    "### 4.1. Логистическая регрессия "
   ]
  },
  {
   "cell_type": "code",
   "execution_count": 71,
   "metadata": {},
   "outputs": [],
   "source": [
    "logit = LogisticRegression(n_jobs=-1, random_state=17)"
   ]
  },
  {
   "cell_type": "code",
   "execution_count": 72,
   "metadata": {},
   "outputs": [
    {
     "name": "stdout",
     "output_type": "stream",
     "text": [
      "Wall time: 0 ns\n"
     ]
    },
    {
     "data": {
      "text/plain": [
       "LogisticRegression(C=1.0, class_weight=None, dual=False, fit_intercept=True,\n",
       "                   intercept_scaling=1, l1_ratio=None, max_iter=100,\n",
       "                   multi_class='warn', n_jobs=-1, penalty='l2', random_state=17,\n",
       "                   solver='warn', tol=0.0001, verbose=0, warm_start=False)"
      ]
     },
     "execution_count": 72,
     "metadata": {},
     "output_type": "execute_result"
    }
   ],
   "source": [
    "%time\n",
    "logit.fit(X_train_norm, y_train)"
   ]
  },
  {
   "cell_type": "code",
   "execution_count": 109,
   "metadata": {},
   "outputs": [],
   "source": [
    "y_goal_pred = logit.predict(X_test_norm)"
   ]
  },
  {
   "cell_type": "code",
   "execution_count": 111,
   "metadata": {},
   "outputs": [
    {
     "data": {
      "text/plain": [
       "array([0., 0., 0., ..., 0., 0., 0.])"
      ]
     },
     "execution_count": 111,
     "metadata": {},
     "output_type": "execute_result"
    }
   ],
   "source": [
    "y_goal_pred"
   ]
  },
  {
   "cell_type": "code",
   "execution_count": 74,
   "metadata": {},
   "outputs": [
    {
     "data": {
      "text/plain": [
       "0.21978522369369716"
      ]
     },
     "execution_count": 74,
     "metadata": {},
     "output_type": "execute_result"
    }
   ],
   "source": [
    "f1_score(y_test, y_pred)"
   ]
  },
  {
   "cell_type": "code",
   "execution_count": 75,
   "metadata": {},
   "outputs": [
    {
     "data": {
      "text/plain": [
       "array([[-0.11068534, -0.47695494,  0.6758122 ,  0.19356171, -0.48504317,\n",
       "        -0.34206254, -0.07955153,  0.0442984 , -0.09234446, -0.3057098 ,\n",
       "         0.01602468,  0.08296919,  0.27425103,  0.44215543]])"
      ]
     },
     "execution_count": 75,
     "metadata": {},
     "output_type": "execute_result"
    }
   ],
   "source": [
    "logit.coef_ "
   ]
  },
  {
   "cell_type": "markdown",
   "metadata": {},
   "source": [
    "### 4.2. RandomForest "
   ]
  },
  {
   "cell_type": "code",
   "execution_count": 76,
   "metadata": {},
   "outputs": [],
   "source": [
    "rfc_goal = RandomForestClassifier(random_state=42, n_jobs=-1, oob_score=True, n_estimators=20)"
   ]
  },
  {
   "cell_type": "code",
   "execution_count": 77,
   "metadata": {},
   "outputs": [
    {
     "data": {
      "text/plain": [
       "RandomForestClassifier(bootstrap=True, class_weight=None, criterion='gini',\n",
       "                       max_depth=None, max_features='auto', max_leaf_nodes=None,\n",
       "                       min_impurity_decrease=0.0, min_impurity_split=None,\n",
       "                       min_samples_leaf=1, min_samples_split=2,\n",
       "                       min_weight_fraction_leaf=0.0, n_estimators=20, n_jobs=-1,\n",
       "                       oob_score=True, random_state=42, verbose=0,\n",
       "                       warm_start=False)"
      ]
     },
     "execution_count": 77,
     "metadata": {},
     "output_type": "execute_result"
    }
   ],
   "source": [
    "rfc_goal.fit(X_train_norm, y_train)"
   ]
  },
  {
   "cell_type": "code",
   "execution_count": 78,
   "metadata": {},
   "outputs": [],
   "source": [
    "y_pred = rfc_goal.predict(X_test_norm)"
   ]
  },
  {
   "cell_type": "code",
   "execution_count": 79,
   "metadata": {},
   "outputs": [
    {
     "name": "stdout",
     "output_type": "stream",
     "text": [
      "f1: 0.893896190177688\n",
      "accuracy:  0.9480491485233886\n",
      "precision:  0.8764965993462295\n",
      "recall:  0.9140461609683486\n"
     ]
    }
   ],
   "source": [
    "calc_scores(y_pred, y_test)"
   ]
  },
  {
   "cell_type": "markdown",
   "metadata": {},
   "source": [
    "### 4.3. SVM "
   ]
  },
  {
   "cell_type": "code",
   "execution_count": null,
   "metadata": {},
   "outputs": [],
   "source": [
    "svc = SVC(kernel='linear', c=1, gamma=1)"
   ]
  },
  {
   "cell_type": "code",
   "execution_count": null,
   "metadata": {},
   "outputs": [],
   "source": []
  },
  {
   "cell_type": "code",
   "execution_count": null,
   "metadata": {},
   "outputs": [],
   "source": []
  },
  {
   "cell_type": "markdown",
   "metadata": {},
   "source": [
    "### 4.4. LightGBM"
   ]
  },
  {
   "cell_type": "code",
   "execution_count": 225,
   "metadata": {},
   "outputs": [],
   "source": [
    "lgbmc = lgb.LGBMClassifier()"
   ]
  },
  {
   "cell_type": "code",
   "execution_count": 226,
   "metadata": {},
   "outputs": [
    {
     "data": {
      "text/plain": [
       "LGBMClassifier(boosting_type='gbdt', class_weight=None, colsample_bytree=1.0,\n",
       "               importance_type='split', learning_rate=0.1, max_depth=-1,\n",
       "               min_child_samples=20, min_child_weight=0.001, min_split_gain=0.0,\n",
       "               n_estimators=100, n_jobs=-1, num_leaves=31, objective=None,\n",
       "               random_state=None, reg_alpha=0.0, reg_lambda=0.0, silent=True,\n",
       "               subsample=1.0, subsample_for_bin=200000, subsample_freq=0)"
      ]
     },
     "execution_count": 226,
     "metadata": {},
     "output_type": "execute_result"
    }
   ],
   "source": [
    "lgbmc.fit(X_train, y_train)"
   ]
  },
  {
   "cell_type": "code",
   "execution_count": 227,
   "metadata": {},
   "outputs": [],
   "source": [
    "y_pred = lgbmc.predict(X_test)"
   ]
  },
  {
   "cell_type": "code",
   "execution_count": 228,
   "metadata": {},
   "outputs": [
    {
     "name": "stdout",
     "output_type": "stream",
     "text": [
      "f1: 0.8322025178568744\n",
      "accuracy:  0.9200882970565258\n",
      "precision:  0.8608691306006455\n",
      "recall:  0.8096525080818545\n"
     ]
    }
   ],
   "source": [
    "calc_scores(y_test, y_pred)"
   ]
  },
  {
   "cell_type": "markdown",
   "metadata": {},
   "source": [
    "## 5. Отбор признаков "
   ]
  },
  {
   "cell_type": "code",
   "execution_count": 248,
   "metadata": {},
   "outputs": [
    {
     "data": {
      "image/png": "[encoded data removed]",
      "text/plain": [
       "<Figure size 1440x720 with 1 Axes>"
      ]
     },
     "metadata": {
      "needs_background": "light"
     },
     "output_type": "display_data"
    }
   ],
   "source": [
    "# sorted(zip(clf.feature_importances_, X.columns), reverse=True)\n",
    "feature_imp = pd.DataFrame(sorted(zip(lgbmc.feature_importances_,X_train.columns)), columns=['Value','Feature'])\n",
    "\n",
    "plt.figure(figsize=(20, 10))\n",
    "sns.barplot(x=\"Value\", y=\"Feature\", data=feature_imp.sort_values(by=\"Value\", ascending=False))\n",
    "plt.title('LightGBM Features (avg over folds)')\n",
    "plt.tight_layout()\n",
    "plt.show()"
   ]
  },
  {
   "cell_type": "code",
   "execution_count": 257,
   "metadata": {},
   "outputs": [],
   "source": [
    "# ALPS, bk, GZ1 (NKTD)\n",
    "df3 = train_df[['ALPS', 'bk', 'GZ1', 'goal']]"
   ]
  },
  {
   "cell_type": "code",
   "execution_count": 263,
   "metadata": {},
   "outputs": [],
   "source": [
    "df3 = df3.fillna(0)"
   ]
  },
  {
   "cell_type": "code",
   "execution_count": 264,
   "metadata": {},
   "outputs": [
    {
     "name": "stdout",
     "output_type": "stream",
     "text": [
      "<class 'pandas.core.frame.DataFrame'>\n",
      "RangeIndex: 465096 entries, 0 to 465095\n",
      "Data columns (total 4 columns):\n",
      "ALPS    465096 non-null float64\n",
      "bk      465096 non-null float64\n",
      "GZ1     465096 non-null float64\n",
      "goal    465096 non-null float64\n",
      "dtypes: float64(4)\n",
      "memory usage: 14.2 MB\n"
     ]
    }
   ],
   "source": [
    "df3.info()"
   ]
  },
  {
   "cell_type": "code",
   "execution_count": 267,
   "metadata": {},
   "outputs": [],
   "source": [
    "X3 = df3.drop('goal', axis=1)\n",
    "y3 = df3['goal']"
   ]
  },
  {
   "cell_type": "code",
   "execution_count": 268,
   "metadata": {},
   "outputs": [],
   "source": [
    "X_train3, X_test3, y_train3, y_test3 = train_test_split(X3, y3, test_size=0.3, random_state=42)"
   ]
  },
  {
   "cell_type": "code",
   "execution_count": 269,
   "metadata": {},
   "outputs": [],
   "source": [
    "lgbmc3 = lgb.LGBMClassifier()"
   ]
  },
  {
   "cell_type": "code",
   "execution_count": 272,
   "metadata": {},
   "outputs": [
    {
     "data": {
      "text/plain": [
       "LGBMClassifier(boosting_type='gbdt', class_weight=None, colsample_bytree=1.0,\n",
       "               importance_type='split', learning_rate=0.1, max_depth=-1,\n",
       "               min_child_samples=20, min_child_weight=0.001, min_split_gain=0.0,\n",
       "               n_estimators=100, n_jobs=-1, num_leaves=31, objective=None,\n",
       "               random_state=None, reg_alpha=0.0, reg_lambda=0.0, silent=True,\n",
       "               subsample=1.0, subsample_for_bin=200000, subsample_freq=0)"
      ]
     },
     "execution_count": 272,
     "metadata": {},
     "output_type": "execute_result"
    }
   ],
   "source": [
    "lgbmc3.fit(X_train3, y_train3)"
   ]
  },
  {
   "cell_type": "code",
   "execution_count": 274,
   "metadata": {},
   "outputs": [],
   "source": [
    "y3_pred = lgbmc3.predict(X_test3)"
   ]
  },
  {
   "cell_type": "code",
   "execution_count": 276,
   "metadata": {},
   "outputs": [
    {
     "name": "stdout",
     "output_type": "stream",
     "text": [
      "f1: 0.7536051887798667\n",
      "accuracy:  0.8925528026431782\n",
      "precision:  0.8156142431664591\n",
      "recall:  0.7187002101589888\n"
     ]
    }
   ],
   "source": [
    "calc_scores(y_test3, y3_pred)"
   ]
  },
  {
   "cell_type": "code",
   "execution_count": 278,
   "metadata": {},
   "outputs": [],
   "source": [
    "df4 = train_df[['ALPS', 'bk', 'GZ1', 'NKTD', 'goal']]"
   ]
  },
  {
   "cell_type": "code",
   "execution_count": 280,
   "metadata": {},
   "outputs": [],
   "source": [
    "df4 = df4.fillna(0)"
   ]
  },
  {
   "cell_type": "code",
   "execution_count": 282,
   "metadata": {},
   "outputs": [],
   "source": [
    "X4 = df4.drop('goal', axis=1)\n",
    "y4 = df4['goal']"
   ]
  },
  {
   "cell_type": "code",
   "execution_count": 283,
   "metadata": {},
   "outputs": [],
   "source": [
    "X_train4, X_test4, y_train4, y_test4 = train_test_split(X4, y4, test_size=0.3, random_state=42)"
   ]
  },
  {
   "cell_type": "code",
   "execution_count": 285,
   "metadata": {},
   "outputs": [],
   "source": [
    "lgbmc4 = lgb.LGBMClassifier()"
   ]
  },
  {
   "cell_type": "code",
   "execution_count": 287,
   "metadata": {},
   "outputs": [
    {
     "data": {
      "text/plain": [
       "LGBMClassifier(boosting_type='gbdt', class_weight=None, colsample_bytree=1.0,\n",
       "               importance_type='split', learning_rate=0.1, max_depth=-1,\n",
       "               min_child_samples=20, min_child_weight=0.001, min_split_gain=0.0,\n",
       "               n_estimators=100, n_jobs=-1, num_leaves=31, objective=None,\n",
       "               random_state=None, reg_alpha=0.0, reg_lambda=0.0, silent=True,\n",
       "               subsample=1.0, subsample_for_bin=200000, subsample_freq=0)"
      ]
     },
     "execution_count": 287,
     "metadata": {},
     "output_type": "execute_result"
    }
   ],
   "source": [
    "lgbmc4.fit(X_train4, y_train4)"
   ]
  },
  {
   "cell_type": "code",
   "execution_count": 290,
   "metadata": {},
   "outputs": [
    {
     "name": "stdout",
     "output_type": "stream",
     "text": [
      "f1: 0.7879017191539726\n",
      "accuracy:  0.9019271979301794\n",
      "precision:  0.8257914245646719\n",
      "recall:  0.7612084915123258\n"
     ]
    }
   ],
   "source": [
    "y4_pred = lgbmc4.predict(X_test4)\n",
    "calc_scores(y_test4, y4_pred)"
   ]
  },
  {
   "cell_type": "markdown",
   "metadata": {},
   "source": [
    "## 6. Формирование итогового файла "
   ]
  },
  {
   "cell_type": "code",
   "execution_count": 219,
   "metadata": {},
   "outputs": [
    {
     "data": {
      "text/html": [
       "<div>\n",
       "<style scoped>\n",
       "    .dataframe tbody tr th:only-of-type {\n",
       "        vertical-align: middle;\n",
       "    }\n",
       "\n",
       "    .dataframe tbody tr th {\n",
       "        vertical-align: top;\n",
       "    }\n",
       "\n",
       "    .dataframe thead th {\n",
       "        text-align: right;\n",
       "    }\n",
       "</style>\n",
       "<table border=\"1\" class=\"dataframe\">\n",
       "  <thead>\n",
       "    <tr style=\"text-align: right;\">\n",
       "      <th></th>\n",
       "      <th>well id</th>\n",
       "      <th>depth, m</th>\n",
       "      <th>bk</th>\n",
       "      <th>GZ1</th>\n",
       "      <th>GZ2</th>\n",
       "      <th>GZ3</th>\n",
       "      <th>GZ4</th>\n",
       "      <th>GZ5</th>\n",
       "      <th>GZ7</th>\n",
       "      <th>DGK</th>\n",
       "      <th>NKTD</th>\n",
       "      <th>NKTM</th>\n",
       "      <th>NKTR</th>\n",
       "      <th>ALPS</th>\n",
       "    </tr>\n",
       "  </thead>\n",
       "  <tbody>\n",
       "    <tr>\n",
       "      <th>0</th>\n",
       "      <td>47</td>\n",
       "      <td>2465.5460</td>\n",
       "      <td>0.665198</td>\n",
       "      <td>0.259688</td>\n",
       "      <td>0.865866</td>\n",
       "      <td>0.526683</td>\n",
       "      <td>0.116218</td>\n",
       "      <td>0.464870</td>\n",
       "      <td>0.124486</td>\n",
       "      <td>0.196296</td>\n",
       "      <td>0.483192</td>\n",
       "      <td>0.643774</td>\n",
       "      <td>0.376472</td>\n",
       "      <td>0.261831</td>\n",
       "    </tr>\n",
       "    <tr>\n",
       "      <th>1</th>\n",
       "      <td>47</td>\n",
       "      <td>2465.6355</td>\n",
       "      <td>0.115153</td>\n",
       "      <td>0.258287</td>\n",
       "      <td>0.161988</td>\n",
       "      <td>0.583114</td>\n",
       "      <td>0.122256</td>\n",
       "      <td>0.477795</td>\n",
       "      <td>0.118895</td>\n",
       "      <td>0.146578</td>\n",
       "      <td>0.491132</td>\n",
       "      <td>0.655735</td>\n",
       "      <td>0.359872</td>\n",
       "      <td>0.236470</td>\n",
       "    </tr>\n",
       "    <tr>\n",
       "      <th>2</th>\n",
       "      <td>47</td>\n",
       "      <td>2465.7250</td>\n",
       "      <td>0.155254</td>\n",
       "      <td>0.318849</td>\n",
       "      <td>0.125817</td>\n",
       "      <td>0.639544</td>\n",
       "      <td>0.128194</td>\n",
       "      <td>0.497212</td>\n",
       "      <td>0.111693</td>\n",
       "      <td>0.968615</td>\n",
       "      <td>0.499726</td>\n",
       "      <td>0.667695</td>\n",
       "      <td>0.343272</td>\n",
       "      <td>0.266756</td>\n",
       "    </tr>\n",
       "    <tr>\n",
       "      <th>3</th>\n",
       "      <td>47</td>\n",
       "      <td>2465.8145</td>\n",
       "      <td>0.125315</td>\n",
       "      <td>0.474215</td>\n",
       "      <td>0.149127</td>\n",
       "      <td>0.638636</td>\n",
       "      <td>0.128239</td>\n",
       "      <td>0.478265</td>\n",
       "      <td>0.987464</td>\n",
       "      <td>0.546126</td>\n",
       "      <td>0.492469</td>\n",
       "      <td>0.659642</td>\n",
       "      <td>0.341159</td>\n",
       "      <td>0.332568</td>\n",
       "    </tr>\n",
       "    <tr>\n",
       "      <th>4</th>\n",
       "      <td>47</td>\n",
       "      <td>2465.9040</td>\n",
       "      <td>0.953756</td>\n",
       "      <td>0.638341</td>\n",
       "      <td>0.172437</td>\n",
       "      <td>0.637663</td>\n",
       "      <td>0.113455</td>\n",
       "      <td>0.465892</td>\n",
       "      <td>0.858188</td>\n",
       "      <td>0.123651</td>\n",
       "      <td>0.485865</td>\n",
       "      <td>0.651513</td>\n",
       "      <td>0.339456</td>\n",
       "      <td>0.398383</td>\n",
       "    </tr>\n",
       "  </tbody>\n",
       "</table>\n",
       "</div>"
      ],
      "text/plain": [
       "   well id   depth, m        bk       GZ1       GZ2       GZ3       GZ4  \\\n",
       "0       47  2465.5460  0.665198  0.259688  0.865866  0.526683  0.116218   \n",
       "1       47  2465.6355  0.115153  0.258287  0.161988  0.583114  0.122256   \n",
       "2       47  2465.7250  0.155254  0.318849  0.125817  0.639544  0.128194   \n",
       "3       47  2465.8145  0.125315  0.474215  0.149127  0.638636  0.128239   \n",
       "4       47  2465.9040  0.953756  0.638341  0.172437  0.637663  0.113455   \n",
       "\n",
       "        GZ5       GZ7       DGK      NKTD      NKTM      NKTR      ALPS  \n",
       "0  0.464870  0.124486  0.196296  0.483192  0.643774  0.376472  0.261831  \n",
       "1  0.477795  0.118895  0.146578  0.491132  0.655735  0.359872  0.236470  \n",
       "2  0.497212  0.111693  0.968615  0.499726  0.667695  0.343272  0.266756  \n",
       "3  0.478265  0.987464  0.546126  0.492469  0.659642  0.341159  0.332568  \n",
       "4  0.465892  0.858188  0.123651  0.485865  0.651513  0.339456  0.398383  "
      ]
     },
     "execution_count": 219,
     "metadata": {},
     "output_type": "execute_result"
    }
   ],
   "source": [
    "X_val = test_df.drop('id', axis=1).fillna(0)\n",
    "X_val.head()"
   ]
  },
  {
   "cell_type": "code",
   "execution_count": 223,
   "metadata": {},
   "outputs": [
    {
     "data": {
      "text/plain": [
       "array(['DENSE', 'ARGILLIT', 'DENSE', ..., 'ARGILLIT', 'ARGILLIT',\n",
       "       'ARGILLIT'], dtype=object)"
      ]
     },
     "execution_count": 223,
     "metadata": {},
     "output_type": "execute_result"
    }
   ],
   "source": [
    "lith = rfc_lith.predict(X_val)\n",
    "lith"
   ]
  },
  {
   "cell_type": "code",
   "execution_count": 233,
   "metadata": {},
   "outputs": [],
   "source": [
    "goal = lgbmc.predict(X_val)"
   ]
  },
  {
   "cell_type": "code",
   "execution_count": 235,
   "metadata": {},
   "outputs": [
    {
     "data": {
      "text/plain": [
       "<matplotlib.axes._subplots.AxesSubplot at 0x1e211632438>"
      ]
     },
     "execution_count": 235,
     "metadata": {},
     "output_type": "execute_result"
    },
    {
     "data": {
      "image/png": "[encoded data removed]",
      "text/plain": [
       "<Figure size 432x288 with 1 Axes>"
      ]
     },
     "metadata": {
      "needs_background": "light"
     },
     "output_type": "display_data"
    }
   ],
   "source": [
    "sns.countplot(goal)"
   ]
  },
  {
   "cell_type": "code",
   "execution_count": 237,
   "metadata": {},
   "outputs": [
    {
     "data": {
      "text/plain": [
       "(37604, 37604, 37604)"
      ]
     },
     "execution_count": 237,
     "metadata": {},
     "output_type": "execute_result"
    }
   ],
   "source": [
    "len(X_val['well id']), len(goal), len(lith)"
   ]
  },
  {
   "cell_type": "code",
   "execution_count": 242,
   "metadata": {},
   "outputs": [],
   "source": [
    "test_df['lith'] = lith\n",
    "test_df['goal'] = goal"
   ]
  },
  {
   "cell_type": "code",
   "execution_count": 244,
   "metadata": {},
   "outputs": [
    {
     "data": {
      "text/html": [
       "<div>\n",
       "<style scoped>\n",
       "    .dataframe tbody tr th:only-of-type {\n",
       "        vertical-align: middle;\n",
       "    }\n",
       "\n",
       "    .dataframe tbody tr th {\n",
       "        vertical-align: top;\n",
       "    }\n",
       "\n",
       "    .dataframe thead th {\n",
       "        text-align: right;\n",
       "    }\n",
       "</style>\n",
       "<table border=\"1\" class=\"dataframe\">\n",
       "  <thead>\n",
       "    <tr style=\"text-align: right;\">\n",
       "      <th></th>\n",
       "      <th>id</th>\n",
       "      <th>well id</th>\n",
       "      <th>depth, m</th>\n",
       "      <th>bk</th>\n",
       "      <th>GZ1</th>\n",
       "      <th>GZ2</th>\n",
       "      <th>GZ3</th>\n",
       "      <th>GZ4</th>\n",
       "      <th>GZ5</th>\n",
       "      <th>GZ7</th>\n",
       "      <th>DGK</th>\n",
       "      <th>NKTD</th>\n",
       "      <th>NKTM</th>\n",
       "      <th>NKTR</th>\n",
       "      <th>ALPS</th>\n",
       "      <th>lith</th>\n",
       "      <th>goal</th>\n",
       "    </tr>\n",
       "  </thead>\n",
       "  <tbody>\n",
       "    <tr>\n",
       "      <th>0</th>\n",
       "      <td>1</td>\n",
       "      <td>47</td>\n",
       "      <td>2465.5460</td>\n",
       "      <td>0.665198</td>\n",
       "      <td>0.259688</td>\n",
       "      <td>0.865866</td>\n",
       "      <td>0.526683</td>\n",
       "      <td>0.116218</td>\n",
       "      <td>0.464870</td>\n",
       "      <td>0.124486</td>\n",
       "      <td>0.196296</td>\n",
       "      <td>0.483192</td>\n",
       "      <td>0.643774</td>\n",
       "      <td>0.376472</td>\n",
       "      <td>0.261831</td>\n",
       "      <td>DENSE</td>\n",
       "      <td>0.0</td>\n",
       "    </tr>\n",
       "    <tr>\n",
       "      <th>1</th>\n",
       "      <td>2</td>\n",
       "      <td>47</td>\n",
       "      <td>2465.6355</td>\n",
       "      <td>0.115153</td>\n",
       "      <td>0.258287</td>\n",
       "      <td>0.161988</td>\n",
       "      <td>0.583114</td>\n",
       "      <td>0.122256</td>\n",
       "      <td>0.477795</td>\n",
       "      <td>0.118895</td>\n",
       "      <td>0.146578</td>\n",
       "      <td>0.491132</td>\n",
       "      <td>0.655735</td>\n",
       "      <td>0.359872</td>\n",
       "      <td>0.236470</td>\n",
       "      <td>ARGILLIT</td>\n",
       "      <td>0.0</td>\n",
       "    </tr>\n",
       "    <tr>\n",
       "      <th>2</th>\n",
       "      <td>3</td>\n",
       "      <td>47</td>\n",
       "      <td>2465.7250</td>\n",
       "      <td>0.155254</td>\n",
       "      <td>0.318849</td>\n",
       "      <td>0.125817</td>\n",
       "      <td>0.639544</td>\n",
       "      <td>0.128194</td>\n",
       "      <td>0.497212</td>\n",
       "      <td>0.111693</td>\n",
       "      <td>0.968615</td>\n",
       "      <td>0.499726</td>\n",
       "      <td>0.667695</td>\n",
       "      <td>0.343272</td>\n",
       "      <td>0.266756</td>\n",
       "      <td>DENSE</td>\n",
       "      <td>0.0</td>\n",
       "    </tr>\n",
       "    <tr>\n",
       "      <th>3</th>\n",
       "      <td>4</td>\n",
       "      <td>47</td>\n",
       "      <td>2465.8145</td>\n",
       "      <td>0.125315</td>\n",
       "      <td>0.474215</td>\n",
       "      <td>0.149127</td>\n",
       "      <td>0.638636</td>\n",
       "      <td>0.128239</td>\n",
       "      <td>0.478265</td>\n",
       "      <td>0.987464</td>\n",
       "      <td>0.546126</td>\n",
       "      <td>0.492469</td>\n",
       "      <td>0.659642</td>\n",
       "      <td>0.341159</td>\n",
       "      <td>0.332568</td>\n",
       "      <td>SAND</td>\n",
       "      <td>0.0</td>\n",
       "    </tr>\n",
       "    <tr>\n",
       "      <th>4</th>\n",
       "      <td>5</td>\n",
       "      <td>47</td>\n",
       "      <td>2465.9040</td>\n",
       "      <td>0.953756</td>\n",
       "      <td>0.638341</td>\n",
       "      <td>0.172437</td>\n",
       "      <td>0.637663</td>\n",
       "      <td>0.113455</td>\n",
       "      <td>0.465892</td>\n",
       "      <td>0.858188</td>\n",
       "      <td>0.123651</td>\n",
       "      <td>0.485865</td>\n",
       "      <td>0.651513</td>\n",
       "      <td>0.339456</td>\n",
       "      <td>0.398383</td>\n",
       "      <td>DENSE</td>\n",
       "      <td>0.0</td>\n",
       "    </tr>\n",
       "  </tbody>\n",
       "</table>\n",
       "</div>"
      ],
      "text/plain": [
       "   id  well id   depth, m        bk       GZ1       GZ2       GZ3       GZ4  \\\n",
       "0   1       47  2465.5460  0.665198  0.259688  0.865866  0.526683  0.116218   \n",
       "1   2       47  2465.6355  0.115153  0.258287  0.161988  0.583114  0.122256   \n",
       "2   3       47  2465.7250  0.155254  0.318849  0.125817  0.639544  0.128194   \n",
       "3   4       47  2465.8145  0.125315  0.474215  0.149127  0.638636  0.128239   \n",
       "4   5       47  2465.9040  0.953756  0.638341  0.172437  0.637663  0.113455   \n",
       "\n",
       "        GZ5       GZ7       DGK      NKTD      NKTM      NKTR      ALPS  \\\n",
       "0  0.464870  0.124486  0.196296  0.483192  0.643774  0.376472  0.261831   \n",
       "1  0.477795  0.118895  0.146578  0.491132  0.655735  0.359872  0.236470   \n",
       "2  0.497212  0.111693  0.968615  0.499726  0.667695  0.343272  0.266756   \n",
       "3  0.478265  0.987464  0.546126  0.492469  0.659642  0.341159  0.332568   \n",
       "4  0.465892  0.858188  0.123651  0.485865  0.651513  0.339456  0.398383   \n",
       "\n",
       "       lith  goal  \n",
       "0     DENSE   0.0  \n",
       "1  ARGILLIT   0.0  \n",
       "2     DENSE   0.0  \n",
       "3      SAND   0.0  \n",
       "4     DENSE   0.0  "
      ]
     },
     "execution_count": 244,
     "metadata": {},
     "output_type": "execute_result"
    }
   ],
   "source": [
    "test_df.head()"
   ]
  },
  {
   "cell_type": "code",
   "execution_count": 246,
   "metadata": {},
   "outputs": [],
   "source": [
    "test_df.to_excel('test_predicted.xlsx')"
   ]
  }
 ],
 "metadata": {
  "kernelspec": {
   "display_name": "Python 3",
   "language": "python",
   "name": "python3"
  },
  "language_info": {
   "codemirror_mode": {
    "name": "ipython",
    "version": 3
   },
   "file_extension": ".py",
   "mimetype": "text/x-python",
   "name": "python",
   "nbconvert_exporter": "python",
   "pygments_lexer": "ipython3",
   "version": "3.7.1"
  },
  "toc": {
   "base_numbering": 1,
   "nav_menu": {},
   "number_sections": false,
   "sideBar": true,
   "skip_h1_title": false,
   "title_cell": "Table of Contents",
   "title_sidebar": "Contents",
   "toc_cell": false,
   "toc_position": {
    "height": "calc(100% - 180px)",
    "left": "10px",
    "top": "150px",
    "width": "280.8px"
   },
   "toc_section_display": true,
   "toc_window_display": true
  }
 },
 "nbformat": 4,
 "nbformat_minor": 2
}
